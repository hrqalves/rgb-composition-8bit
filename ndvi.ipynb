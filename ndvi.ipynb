{
 "cells": [
  {
   "cell_type": "code",
   "execution_count": 16,
   "id": "99cd2911",
   "metadata": {},
   "outputs": [],
   "source": [
    "from osgeo import gdal\n",
    "import leafmap"
   ]
  },
  {
   "cell_type": "code",
   "execution_count": 17,
   "id": "691aad7c",
   "metadata": {},
   "outputs": [],
   "source": [
    "# Localizar os arquivos\n",
    "\n",
    "red_band_path = r''\n",
    "nir_band_path = r''"
   ]
  },
  {
   "cell_type": "code",
   "execution_count": 18,
   "id": "f02ca748",
   "metadata": {},
   "outputs": [],
   "source": [
    "# Abrir os arquivos\n",
    "\n",
    "red_band_ds = gdal.Open(red_band_path)\n",
    "nir_band_ds = gdal.Open(nir_band_path)"
   ]
  },
  {
   "cell_type": "code",
   "execution_count": 19,
   "id": "43c65baf",
   "metadata": {},
   "outputs": [],
   "source": [
    "# Transformar em Array\n",
    "\n",
    "red_band_data = red_band_ds.ReadAsArray()\n",
    "nir_band_data = nir_band_ds.ReadAsArray()"
   ]
  },
  {
   "cell_type": "code",
   "execution_count": 20,
   "id": "55a2e4fa",
   "metadata": {},
   "outputs": [],
   "source": [
    "# Calcula o NDVI\n",
    "\n",
    "ndvi = (nir_band_data - red_band_data) / (nir_band_data + red_band_data)"
   ]
  },
  {
   "cell_type": "code",
   "execution_count": 21,
   "id": "5483dab6",
   "metadata": {},
   "outputs": [],
   "source": [
    "# Adiciona o caminho do arquivo e as informações necessárias para criar o raster\n",
    "\n",
    "output_ndvi_path = r''\n",
    "\n",
    "width = red_band_ds.RasterXSize # Largura do Raster\n",
    "height = red_band_ds.RasterYSize # Altura do Raster\n",
    "projection = red_band_ds.GetProjection() # Sistema de Coordenadas\n",
    "geotransform = red_band_ds.GetGeoTransform() # Matriz de Transformação\n",
    "bands = red_band_ds.RasterCount # Número de bandas"
   ]
  },
  {
   "cell_type": "code",
   "execution_count": 22,
   "id": "3ac4d21a",
   "metadata": {},
   "outputs": [],
   "source": [
    "# Cria o raster de saída\n",
    "\n",
    "driver = gdal.GetDriverByName('Gtiff')\n",
    "\n",
    "ndvi_ds = driver.Create(output_ndvi_path, width, height, bands, gdal.GDT_Float32)"
   ]
  },
  {
   "cell_type": "code",
   "execution_count": 23,
   "id": "130ee348",
   "metadata": {},
   "outputs": [
    {
     "data": {
      "text/plain": [
       "0"
      ]
     },
     "execution_count": 23,
     "metadata": {},
     "output_type": "execute_result"
    }
   ],
   "source": [
    "ndvi_ds.SetGeoTransform(geotransform)\n",
    "ndvi_ds.SetProjection(projection)"
   ]
  },
  {
   "cell_type": "code",
   "execution_count": 24,
   "id": "84ea0dbe",
   "metadata": {},
   "outputs": [
    {
     "data": {
      "text/plain": [
       "0"
      ]
     },
     "execution_count": 24,
     "metadata": {},
     "output_type": "execute_result"
    }
   ],
   "source": [
    "# Escreve o resultado da aritmética de bandas no raster criado\n",
    "\n",
    "ndvi_band = ndvi_ds.GetRasterBand(1)\n",
    "ndvi_band.WriteArray(ndvi)"
   ]
  },
  {
   "cell_type": "code",
   "execution_count": 25,
   "id": "62e66200",
   "metadata": {},
   "outputs": [
    {
     "data": {
      "text/plain": [
       "[-1.0, 1.0, 0.1845122403193951, 0.1844916223602398]"
      ]
     },
     "execution_count": 25,
     "metadata": {},
     "output_type": "execute_result"
    }
   ],
   "source": [
    "# Calcula as estatísticas do raster\n",
    "\n",
    "ndvi_band.ComputeStatistics(True)"
   ]
  },
  {
   "cell_type": "code",
   "execution_count": 26,
   "id": "8352cbd1",
   "metadata": {},
   "outputs": [],
   "source": [
    "# Limpa as variáveis e libera memória\n",
    "\n",
    "red_band_ds = None\n",
    "nir_band_ds = None\n",
    "ndvi_ds = None"
   ]
  },
  {
   "cell_type": "code",
   "execution_count": 27,
   "id": "15ddcb3c",
   "metadata": {},
   "outputs": [
    {
     "data": {
      "application/vnd.jupyter.widget-view+json": {
       "model_id": "34f6bad878b840f6894b437831a49f76",
       "version_major": 2,
       "version_minor": 0
      },
      "text/plain": [
       "Map(center=[-22, -51], controls=(ZoomControl(options=['position', 'zoom_in_text', 'zoom_in_title', 'zoom_out_t…"
      ]
     },
     "execution_count": 27,
     "metadata": {},
     "output_type": "execute_result"
    }
   ],
   "source": [
    "m = leafmap.Map(center=[-22,-51], zoom=18, width='800px')\n",
    "m.add_basemap(\"SATELLITE\")\n",
    "m"
   ]
  },
  {
   "cell_type": "code",
   "execution_count": 28,
   "id": "eddc6e75",
   "metadata": {},
   "outputs": [],
   "source": [
    "m.layers[-1].visible = True\n",
    "m.add_raster(output_ndvi_path,scheme='JenksCaspall',cmap='Greens',legend_title='NDVI')"
   ]
  },
  {
   "cell_type": "code",
   "execution_count": 29,
   "id": "24b37e94",
   "metadata": {},
   "outputs": [
    {
     "name": "stdout",
     "output_type": "stream",
     "text": [
      "NDVI - mínimo: -1.0\n",
      "NDVI - máximo: 1.0\n",
      "NDVI - média: 0.18496847\n"
     ]
    }
   ],
   "source": [
    "import rasterio\n",
    "import numpy as np\n",
    "\n",
    "with rasterio.open(output_ndvi_path) as src:\n",
    "    ndvi = src.read(1)\n",
    "    print(\"NDVI - mínimo:\", np.nanmin(ndvi))\n",
    "    print(\"NDVI - máximo:\", np.nanmax(ndvi))\n",
    "    print(\"NDVI - média:\", np.nanmean(ndvi))"
   ]
  },
  {
   "cell_type": "code",
   "execution_count": null,
   "id": "878513ec",
   "metadata": {},
   "outputs": [],
   "source": []
  },
  {
   "cell_type": "code",
   "execution_count": null,
   "id": "d55f8dd8",
   "metadata": {},
   "outputs": [],
   "source": []
  }
 ],
 "metadata": {
  "kernelspec": {
   "display_name": "Python (Geodev)",
   "language": "python",
   "name": "geodev"
  },
  "language_info": {
   "codemirror_mode": {
    "name": "ipython",
    "version": 3
   },
   "file_extension": ".py",
   "mimetype": "text/x-python",
   "name": "python",
   "nbconvert_exporter": "python",
   "pygments_lexer": "ipython3",
   "version": "3.11.11"
  }
 },
 "nbformat": 4,
 "nbformat_minor": 5
}
