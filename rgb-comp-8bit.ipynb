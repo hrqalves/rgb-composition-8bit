{
 "cells": [
  {
   "cell_type": "code",
   "execution_count": null,
   "id": "ea8c216e",
   "metadata": {},
   "outputs": [],
   "source": [
    "from osgeo import gdal\n",
    "gdal.UseExceptions()"
   ]
  },
  {
   "cell_type": "code",
   "execution_count": null,
   "id": "344dd3de",
   "metadata": {},
   "outputs": [],
   "source": [
    "band2_path = r''\n",
    "band3_path = r''\n",
    "band4_path = r''"
   ]
  },
  {
   "cell_type": "code",
   "execution_count": null,
   "id": "3ab27612",
   "metadata": {},
   "outputs": [],
   "source": [
    "band2_ds = gdal.Open(band2_path)\n",
    "band3_ds = gdal.Open(band3_path)\n",
    "band4_ds = gdal.Open(band4_path)"
   ]
  },
  {
   "cell_type": "code",
   "execution_count": null,
   "id": "4d9b3f7a",
   "metadata": {},
   "outputs": [],
   "source": [
    "width = band2_ds.RasterXSize\n",
    "height = band2_ds.RasterYSize\n",
    "projection = band2_ds.GetProjection()\n",
    "geotransform = band2_ds.GetGeoTransform()"
   ]
  },
  {
   "cell_type": "code",
   "execution_count": null,
   "id": "50e7c2f2",
   "metadata": {},
   "outputs": [],
   "source": [
    "output_file = r''\n",
    "driver = gdal.GetDriverByName('GTiff')\n",
    "output_file_ds = driver.Create(output_file, width, height, 3, gdal.GDT_Byte)"
   ]
  },
  {
   "cell_type": "code",
   "execution_count": null,
   "id": "52f16669",
   "metadata": {},
   "outputs": [],
   "source": [
    "output_file_ds.SetProjection(projection)\n",
    "output_file_ds.SetGeoTransform(geotransform)"
   ]
  },
  {
   "cell_type": "code",
   "execution_count": null,
   "id": "92b90656",
   "metadata": {},
   "outputs": [],
   "source": [
    "from osgeo import gdal\n",
    "import numpy as np\n",
    "\n",
    "def scale_to_8bit(array, min_val=0, max_val=10000):\n",
    "    clipped = np.clip(array, min_val, max_val)\n",
    "    scaled = ((clipped - min_val) / (max_val - min_val)) * 255\n",
    "    return scaled.astype(np.uint8)"
   ]
  },
  {
   "cell_type": "code",
   "execution_count": null,
   "id": "e7df4002",
   "metadata": {},
   "outputs": [],
   "source": [
    "band2 = band2_ds.GetRasterBand(1).ReadAsArray()\n",
    "band3 = band3_ds.GetRasterBand(1).ReadAsArray()\n",
    "band4 = band4_ds.GetRasterBand(1).ReadAsArray()"
   ]
  },
  {
   "cell_type": "code",
   "execution_count": null,
   "id": "a94e67e7",
   "metadata": {},
   "outputs": [],
   "source": [
    "band2_8bit = scale_to_8bit(band2)\n",
    "band3_8bit = scale_to_8bit(band3)\n",
    "band4_8bit = scale_to_8bit(band4)"
   ]
  },
  {
   "cell_type": "code",
   "execution_count": null,
   "id": "84baba88",
   "metadata": {},
   "outputs": [],
   "source": [
    "output_file_ds.GetRasterBand(1).WriteArray(band4_8bit)  # Vermelho\n",
    "output_file_ds.GetRasterBand(2).WriteArray(band3_8bit)  # Verde\n",
    "output_file_ds.GetRasterBand(3).WriteArray(band2_8bit)  # Azul"
   ]
  },
  {
   "cell_type": "code",
   "execution_count": null,
   "id": "deb1fe8c",
   "metadata": {},
   "outputs": [],
   "source": [
    "output_file_ds.FlushCache()\n",
    "output_file_ds = None"
   ]
  },
  {
   "cell_type": "code",
   "execution_count": null,
   "id": "53a7f578",
   "metadata": {},
   "outputs": [],
   "source": [
    "import leafmap\n",
    "\n",
    "m = leafmap.Map(center=[],zoom = 18, height =\"800px\")\n",
    "m.add_basemap(\"SATELLITE\")\n",
    "m"
   ]
  },
  {
   "cell_type": "code",
   "execution_count": null,
   "id": "bc4640ca",
   "metadata": {},
   "outputs": [],
   "source": [
    "m.layers[-1].visible = True\n",
    "m.add_raster(output_file,band=[1,2,3],vmin = 0, vmax = 100, layer_name=\"Image\")"
   ]
  },
  {
   "cell_type": "code",
   "execution_count": null,
   "id": "31eebf6b",
   "metadata": {},
   "outputs": [],
   "source": [
    "import matplotlib.pyplot as plt\n",
    "import numpy as np\n",
    "from osgeo import gdal\n",
    "\n",
    "# Caminho para a banda 4 (vermelho)\n",
    "band4_path = r''\n",
    "band4_ds = gdal.Open(band4_path)\n",
    "band4 = band4_ds.GetRasterBand(1).ReadAsArray()\n",
    "\n",
    "# Normaliza para 8 bits\n",
    "def scale_to_8bit(array, min_val=0, max_val=10000):\n",
    "    clipped = np.clip(array, min_val, max_val)\n",
    "    scaled = ((clipped - min_val) / (max_val - min_val)) * 255\n",
    "    return scaled.astype(np.uint8)\n",
    "\n",
    "band4_8bit = scale_to_8bit(band4)\n",
    "\n",
    "# Plota o histograma\n",
    "plt.figure(figsize=(10, 5))\n",
    "plt.hist(band4_8bit.ravel(), bins=256, range=(0, 255), color='red', alpha=0.7)\n",
    "plt.title('Histograma da Banda Vermelha (B04) - Escala 8 bits')\n",
    "plt.xlabel('Valor de pixel (0–255)')\n",
    "plt.ylabel('Frequência')\n",
    "plt.grid(True)\n",
    "plt.show()"
   ]
  }
 ],
 "metadata": {
  "kernelspec": {
   "display_name": "Python (Geodev)",
   "language": "python",
   "name": "geodev"
  },
  "language_info": {
   "codemirror_mode": {
    "name": "ipython",
    "version": 3
   },
   "file_extension": ".py",
   "mimetype": "text/x-python",
   "name": "python",
   "nbconvert_exporter": "python",
   "pygments_lexer": "ipython3",
   "version": "3.11.11"
  }
 },
 "nbformat": 4,
 "nbformat_minor": 5
}
